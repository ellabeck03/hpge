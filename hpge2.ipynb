{
 "cells": [
  {
   "cell_type": "markdown",
   "id": "1bf56c75-bf5e-44dd-b2ff-7d0ab0f676e9",
   "metadata": {},
   "source": [
    "# HPGe simulation 2"
   ]
  },
  {
   "cell_type": "code",
   "execution_count": 2,
   "id": "457feb23-635a-441a-b6e3-7167059baa8f",
   "metadata": {},
   "outputs": [],
   "source": [
    "import openmc\n",
    "import matplotlib.pyplot as plt\n",
    "import numpy as np\n",
    "import scipy\n",
    "from scipy import interpolate\n",
    "from scipy.optimize import curve_fit\n",
    "from scipy.integrate import simps\n",
    "from scipy.signal import peak_widths\n",
    "import os"
   ]
  },
  {
   "cell_type": "code",
   "execution_count": 3,
   "id": "f091cd02-1374-42e7-973c-0758e2d9d115",
   "metadata": {},
   "outputs": [],
   "source": [
    "#taken from europium gamma decay spectrum, all decay channels with an intensity >0.01%\n",
    "europium_energy_peaks_ev = [121781.7, 125690, 148010, 212568, 244697.4, 251633, 271131, 275449, 285980, 295938.7, 315174, 324830, 329425, 340400,\n",
    "                           344278.5, 351660, 367789.1, 411116.5, 416048, 440860, 443965, 482310, 488679.2, 493508, 503474, 511000, 520227, 523130,\n",
    "                           526881, 534245, 556560, 562930, 563990, 566442, 586265, 656489, 664780, 671155, 674675, 674677, 678623, 686610, 688670,\n",
    "                           712843, 719349, 727990, 764900, 768944, 778904.5, 794810, 810451, 839360, 841574, 867380, 896580, 901181, 906010, 919337,\n",
    "                           926317, 930580, 958630, 963390, 964079, 974090, 990190, 1005272, 1084000, 1085337, 1089737, 1109174, 1112076, 1170930,\n",
    "                           1206110, 1212948, 1249938, 1261343, 1292778, 1299142, 1348100, 1363770, 1408013, 1457643, 1528103]\n",
    "\n",
    "europium_decay_probabilities_percent = [28.41, 0.019, 0.035, 0.0196, 7.55, 0.0671, 0.078, 0.0323, 0.01, 0.442, 0.0496, 0.0738, 0.129, 0.031, 26.59,\n",
    "                                        0.014, 0.862, 2.238, 0.109, 0.0133, 0.32, 2.8, 0.0279, 0.4139, 0.0278, 0.1533, 0.054, 0.0536, 0.0113, 0.0129, \n",
    "                                        0.0368, 0.0177, 0.038, 0.457, 0.131, 0.462,  0.1437, 0.01, 0.0194, 0.17, 0.0171, 0.47, 0.02, 0.841, 0.0961,\n",
    "                                        0.268, 0.0106, 0.19, 0.088, 12.97, 0.0263, 0.317, 0.016, 4.243, 0.0669, 0.084, 0.016, 0.429, 0.273, 0.0729,\n",
    "                                        0.021, 0.1341, 14.5, 0.0138, 0.0315, 0.665, 0.244, 10.13, 1.73, 0.186, 13.41, 0.0365, 0.0135, 1.416, 0.186,\n",
    "                                        0.0336, 0.104, 1.633, 0.0175, 0.0256, 20.85, 0.498, 0.281]\n",
    "\n",
    "\n",
    "cobalt_energy_peaks_ev = [347140, 826100, 1173222.8, 1332492, 2158570, 2505692]\n",
    "cobalt_decay_probabilities_percent = [0.0075, 0.0076, 99.85, 99.9826, 0.0012, 0.000002]\n",
    "\n",
    "americium_energy_peaks_ev = [26344.6, 32183, 33196.3, 43420, 55560, 59540.9, 98970, 102980]\n",
    "americium_decay_probabilities_percent = [2.31, 0.0174, 0.1215, 0.0669, 0.0181, 35.92, 0.0203, 0.0195]\n",
    "\n",
    "def normalise_probabilities(prob_table):\n",
    "    prob_total = np.sum(np.array(prob_table))\n",
    "    normalised_prob_table = prob_table / prob_total\n",
    "    normalised_prob_table = normalised_prob_table.tolist()\n",
    "\n",
    "    return normalised_prob_table\n",
    "\n",
    "normalised_europium_decay_probabilities = normalise_probabilities(europium_decay_probabilities_percent)\n",
    "normalised_cobalt_decay_probabilities = normalise_probabilities(cobalt_decay_probabilities_percent)\n",
    "normalised_americium_decay_probabilities = normalise_probabilities(americium_decay_probabilities_percent)\n",
    "\n",
    "decay_energies_array = [europium_energy_peaks_ev, cobalt_energy_peaks_ev, americium_energy_peaks_ev]\n",
    "decay_probabilities_array = [normalised_europium_decay_probabilities, normalised_cobalt_decay_probabilities, normalised_americium_decay_probabilities]"
   ]
  },
  {
   "cell_type": "markdown",
   "id": "4488068e-81e8-4744-a92f-7c73f75007c9",
   "metadata": {},
   "source": [
    "## Defining the materials"
   ]
  },
  {
   "cell_type": "code",
   "execution_count": 4,
   "id": "41002a64-5f4c-4cac-8824-b91eef944e67",
   "metadata": {},
   "outputs": [],
   "source": [
    "#materials\n",
    "aluminium_mat = openmc.Material()\n",
    "aluminium_mat.add_element('Al', 1, percent_type = 'ao')\n",
    "aluminium_mat.set_density('g/cm3', 2.6989)\n",
    "\n",
    "beryllium_mat = openmc.Material()\n",
    "beryllium_mat.add_element('Be', 1, percent_type = 'ao')\n",
    "beryllium_mat.set_density('g/cm3', 1.848)\n",
    "\n",
    "carbon_mat = openmc.Material()\n",
    "carbon_mat.add_element('C', 1, percent_type = 'ao')\n",
    "carbon_mat.set_density('g/cm3', 2)\n",
    "\n",
    "copper_mat = openmc.Material()\n",
    "copper_mat.add_element('Cu', 1, percent_type = 'ao')\n",
    "copper_mat.set_density('g/cm3', 8.96)\n",
    "\n",
    "germanium_mat = openmc.Material()\n",
    "germanium_mat.add_element('Ge', 1, percent_type = 'ao')\n",
    "germanium_mat.set_density('g/cm3', 5.323)\n",
    "\n",
    "lead_mat = openmc.Material()\n",
    "lead_mat.add_element('Pb', 1, percent_type = 'ao')\n",
    "lead_mat.set_density('g/cm3', 11.35)\n",
    "\n",
    "mylar_mat = openmc.Material()\n",
    "mylar_mat.add_element('C', 10, percent_type = 'ao')\n",
    "mylar_mat.add_element('H', 8, percent_type = 'ao')\n",
    "mylar_mat.add_element('O', 4, percent_type = 'ao')\n",
    "mylar_mat.set_density('g/cm3', 1.38)\n",
    "\n",
    "vacuum_mat = openmc.Material()#setting a vacuum material as air with a near-zero density\n",
    "vacuum_mat.add_element('C', 0.00015, percent_type = 'ao')\n",
    "vacuum_mat.add_element('N', 0.784429, percent_type = 'ao')\n",
    "vacuum_mat.add_element('O', 0.210750, percent_type = 'ao')\n",
    "vacuum_mat.add_element('Ar', 0.004671, percent_type = 'ao')\n",
    "vacuum_mat.set_density('g/cm3', 0.001)\n",
    "\n",
    "\n",
    "materials = openmc.Materials([aluminium_mat, beryllium_mat, copper_mat, germanium_mat, lead_mat, mylar_mat, vacuum_mat])\n",
    "materials.export_to_xml()"
   ]
  },
  {
   "cell_type": "markdown",
   "id": "9e07deed-7cf3-436b-a7e9-4ec5c4cd31c2",
   "metadata": {},
   "source": [
    "# Defining the geometries"
   ]
  },
  {
   "cell_type": "code",
   "execution_count": 10,
   "id": "3b222c33-9168-4741-bb0b-4be620024c0a",
   "metadata": {},
   "outputs": [],
   "source": [
    "#surfaces\n",
    "\n",
    "lead_shield_out = openmc.model.RightCircularCylinder([0, 0, -28], 61, 28.5, axis = 'z', boundary_type = 'vacuum')\n",
    "lead_shield_in = openmc.model.RightCircularCylinder([0, 0, -23], 46, 12.5, axis = 'z', boundary_type = 'vacuum')\n",
    "\n",
    "outer_cylinder_out = openmc.model.RightCircularCylinder([0, 0, -23], 23, 5, axis = 'z')\n",
    "outer_cylinder_in = openmc.model.RightCircularCylinder([0, 0, -23], 22.84, 4.9, axis = 'z')\n",
    "\n",
    "outer_cylinder_roof = openmc.model.RightCircularCylinder([0, 0, -0.16], 0.16, 5, axis = 'z')\n",
    "\n",
    "aluminium_case_out = openmc.model.RightCircularCylinder([0, 0, -11.06], 10.494, 4.5, axis = 'z')\n",
    "aluminium_case_in = openmc.model.RightCircularCylinder([0, 0, -10.76], 10.194, 4.42, axis = 'z')\n",
    "\n",
    "aluminium_layer = openmc.model.RightCircularCylinder([0, 0, -0.566], 0.003, 4.5, axis = 'z')\n",
    "mylar_layer = openmc.model.RightCircularCylinder([0, 0, -0.563], 0.003, 4.5, axis = 'z')\n",
    "\n",
    "germanium_crystal = openmc.model.RightCircularCylinder([0, 0, -6.626], 6.06, 2.855, axis = 'z')\n",
    "germanium_crystal.id = 1\n",
    "\n",
    "interior_hole_cylinder = openmc.model.RightCircularCylinder((0, 0, -23), 21.104, 0.48, axis = 'z')\n",
    "interior_hole_sphere = openmc.Sphere(0, 0, -1.896, 0.48)"
   ]
  },
  {
   "cell_type": "code",
   "execution_count": 11,
   "id": "f96e42e4-75b6-4273-80fb-894301a8817f",
   "metadata": {},
   "outputs": [
    {
     "name": "stdout",
     "output_type": "stream",
     "text": [
      "Rounded Hole Region: ((-96 97 -98) | -99)\n",
      "Lead Shield Region: (-66 67 -68 (69 | -70 | 71))\n",
      "Outer Cylinder Region: (-72 73 -74 (75 | -76 | 77) ~((-96 97 -98) | -99))\n",
      "Aluminium Case Region: (-81 82 -83 (84 | -85 | 86) ~((-96 97 -98) | -99))\n",
      "Aluminium Layer Region: (-87 88 -89)\n",
      "Mylar Layer Region: (-90 91 -92)\n",
      "Germanium Crystal Region: (-93 94 -95 ~((-96 97 -98) | -99))\n",
      "Vacuum Region: (-69 70 -71 ~(-72 73 -74 (75 | -76 | 77) ~((-96 97 -98) | -99)) ~(-78 79 -80) ~(-81 82 -83 (84 | -85 | 86) ~((-96 97 -98) | -99)) ~(-87 88 -89) ~(-90 91 -92) ~(-93 94 -95 ~((-96 97 -98) | -99)))\n"
     ]
    },
    {
     "data": {
      "image/png": "[encoded data removed]",
      "text/plain": [
       "<Figure size 249.032x267.532 with 1 Axes>"
      ]
     },
     "metadata": {},
     "output_type": "display_data"
    }
   ],
   "source": [
    "colour_assignment = {aluminium_mat: 'red', beryllium_mat: 'yellow', carbon_mat: 'cyan', copper_mat: 'cyan', lead_mat: 'blue', germanium_mat: 'green', mylar_mat: 'purple',\n",
    "                    vacuum_mat: 'gainsboro'}\n",
    "\n",
    "rounded_hole_region = -interior_hole_cylinder | -interior_hole_sphere\n",
    "print(f\"Rounded Hole Region: {rounded_hole_region}\")\n",
    "\n",
    "lead_shield_region = -lead_shield_out & +lead_shield_in\n",
    "print(f\"Lead Shield Region: {lead_shield_region}\")\n",
    "lead_shield_cell = openmc.Cell(region = lead_shield_region)\n",
    "lead_shield_cell.fill = lead_mat\n",
    "\n",
    "outer_cylinder_region = -outer_cylinder_out & +outer_cylinder_in & ~rounded_hole_region\n",
    "print(f\"Outer Cylinder Region: {outer_cylinder_region}\")\n",
    "outer_cylinder_cell = openmc.Cell(region = outer_cylinder_region)\n",
    "outer_cylinder_cell.fill = aluminium_mat\n",
    "\n",
    "outer_cylinder_roof_region = -outer_cylinder_roof\n",
    "outer_cylinder_roof_cell = openmc.Cell(region = outer_cylinder_region)\n",
    "outer_cylinder_roof_cell.fill = carbon_mat\n",
    "\n",
    "aluminium_case_region = -aluminium_case_out & +aluminium_case_in & ~rounded_hole_region\n",
    "print(f\"Aluminium Case Region: {aluminium_case_region}\")\n",
    "aluminium_case_cell = openmc.Cell(region = aluminium_case_region)\n",
    "aluminium_case_cell.fill = aluminium_mat\n",
    "\n",
    "aluminium_layer_region = -aluminium_layer\n",
    "print(f\"Aluminium Layer Region: {aluminium_layer_region}\")\n",
    "aluminium_layer_cell = openmc.Cell(region = aluminium_layer_region)\n",
    "aluminium_layer_cell.fill = aluminium_mat\n",
    "\n",
    "mylar_layer_region = -mylar_layer\n",
    "print(f\"Mylar Layer Region: {mylar_layer_region}\")\n",
    "mylar_layer_cell = openmc.Cell(region = mylar_layer_region)\n",
    "mylar_layer_cell.fill = mylar_mat\n",
    "\n",
    "germanium_crystal_region = -germanium_crystal & ~rounded_hole_region\n",
    "print(f\"Germanium Crystal Region: {germanium_crystal_region}\")\n",
    "germanium_crystal_cell = openmc.Cell(region = germanium_crystal_region)\n",
    "germanium_crystal_cell.fill = germanium_mat\n",
    "\n",
    "vacuum_region = -lead_shield_in & ~outer_cylinder_region & ~outer_cylinder_roof_region & ~aluminium_case_region & ~aluminium_layer_region & ~mylar_layer_region & ~germanium_crystal_region\n",
    "print(f\"Vacuum Region: {vacuum_region}\")\n",
    "vacuum_cell = openmc.Cell(region=vacuum_region)\n",
    "vacuum_cell.fill = vacuum_mat\n",
    "\n",
    "geometry = openmc.Geometry([lead_shield_cell, outer_cylinder_cell, aluminium_case_cell, germanium_crystal_cell, aluminium_layer_cell, \n",
    "                            mylar_layer_cell, vacuum_cell, outer_cylinder_roof_cell])\n",
    "\n",
    "plot = geometry.plot(basis = 'yz', color_by = 'material', colors = colour_assignment, legend = True)\n",
    "\n",
    "geometry.export_to_xml()\n"
   ]
  },
  {
   "cell_type": "code",
   "execution_count": null,
   "id": "a54f722b-bc61-45bc-9630-e178dc188d5c",
   "metadata": {},
   "outputs": [],
   "source": []
  }
 ],
 "metadata": {
  "kernelspec": {
   "display_name": "Python 3 (ipykernel)",
   "language": "python",
   "name": "python3"
  },
  "language_info": {
   "codemirror_mode": {
    "name": "ipython",
    "version": 3
   },
   "file_extension": ".py",
   "mimetype": "text/x-python",
   "name": "python",
   "nbconvert_exporter": "python",
   "pygments_lexer": "ipython3",
   "version": "3.11.2"
  }
 },
 "nbformat": 4,
 "nbformat_minor": 5
}
